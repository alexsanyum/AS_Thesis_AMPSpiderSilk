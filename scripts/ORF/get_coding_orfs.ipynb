{
 "cells": [
  {
   "cell_type": "code",
   "execution_count": 1,
   "metadata": {},
   "outputs": [],
   "source": [
    "def get_coding_orfs(orf_file,dataset,outpath='../../ORF/coding_orfs/'):\n",
    "    f = open(orf_file,'r')\n",
    "    outname = outpath + dataset + '.fasta'\n",
    "    f_out = open(outname,'w')\n",
    "    f.readline()\n",
    "    for line in f:\n",
    "        data = line.split(',')\n",
    "        orfID = data[0]\n",
    "        seq = data[1]\n",
    "        clsf = data[-2]\n",
    "        prob = data[-1]\n",
    "        if clsf == 'coding' and float(prob) >= 0.9 :\n",
    "            f_out.write('>' + orfID + '\\n')\n",
    "            f_out.write(seq + '\\n')\n",
    "    f.close()\n",
    "    f_out.close()\n",
    "    print(dataset + ' was separed succesfully')"
   ]
  },
  {
   "cell_type": "code",
   "execution_count": 2,
   "metadata": {},
   "outputs": [
    {
     "name": "stdout",
     "output_type": "stream",
     "text": [
      "Steatodagrossa was separed succesfully\n",
      "Nephilaantipodiana was separed succesfully\n",
      "Parasteatodatepidariorum was separed succesfully\n",
      "Leucaugevenusta was separed succesfully\n",
      "Latrodectushesperus was separed succesfully\n",
      "LL_37 was separed succesfully\n",
      "Leucaugevenusta_2 was separed succesfully\n"
     ]
    }
   ],
   "source": [
    "import os\n",
    "files = os.listdir('../../ORF/orf_results/')\n",
    "for file in files:\n",
    "    dataset = file[:-4]\n",
    "    filepath = '../../ORF/orf_results/' + file\n",
    "    get_coding_orfs(filepath,dataset)"
   ]
  },
  {
   "cell_type": "code",
   "execution_count": 10,
   "metadata": {},
   "outputs": [
    {
     "data": {
      "text/plain": [
       "['Steatodagrossa.csv',\n",
       " 'Nephilaantipodiana.csv',\n",
       " 'Parasteatodatepidariorum.csv',\n",
       " 'Leucaugevenusta.csv',\n",
       " 'Latrodectushesperus.csv',\n",
       " 'Leucaugevenusta_2.csv']"
      ]
     },
     "execution_count": 10,
     "metadata": {},
     "output_type": "execute_result"
    }
   ],
   "source": [
    "files"
   ]
  },
  {
   "cell_type": "code",
   "execution_count": null,
   "metadata": {},
   "outputs": [],
   "source": []
  }
 ],
 "metadata": {
  "kernelspec": {
   "display_name": "Python 3",
   "language": "python",
   "name": "python3"
  },
  "language_info": {
   "codemirror_mode": {
    "name": "ipython",
    "version": 3
   },
   "file_extension": ".py",
   "mimetype": "text/x-python",
   "name": "python",
   "nbconvert_exporter": "python",
   "pygments_lexer": "ipython3",
   "version": "3.8.3"
  }
 },
 "nbformat": 4,
 "nbformat_minor": 4
}
