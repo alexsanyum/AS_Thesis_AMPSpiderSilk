{
 "cells": [
  {
   "cell_type": "code",
   "execution_count": 19,
   "metadata": {},
   "outputs": [],
   "source": [
    "def complemtary_seq(sequence):\n",
    "    '''This function generate a complementary sequence. This does not support N char'''\n",
    "    basedict = {'A':'T', 'T':'A', 'C':'G', 'G':'C'}\n",
    "    compseq = ''\n",
    "    for base in sequence:\n",
    "        compseq = basedict[base] + compseq\n",
    "    return compseq\n",
    "def generate_fasta_with_complementary_seqs(fasta_file, dataset, outpath= '../../ORF/inputsequences/'):\n",
    "    '''This funcion generated a fasta file that contains sequences and the complentary sequence'''\n",
    "    f = open(fasta_file,'r')\n",
    "    outname = outpath + 'withreverse_' + dataset + '.fasta'\n",
    "    f_out = open(outname,'w')\n",
    "    for line in f:\n",
    "        if line[0]== '>':\n",
    "            head = line\n",
    "        elif 'B' not in line:\n",
    "            compseq = complemtary_seq(line.rstrip())\n",
    "            f_out.write(head)\n",
    "            f_out.write(line)\n",
    "            f_out.write(head.rstrip() + '_reverse\\n')\n",
    "            f_out.write(compseq + '\\n')\n",
    "    f.close()\n",
    "    f_out.close()\n",
    "    print(outname + ' was generated succesfully')\n",
    "    "
   ]
  },
  {
   "cell_type": "code",
   "execution_count": 20,
   "metadata": {},
   "outputs": [
    {
     "name": "stdout",
     "output_type": "stream",
     "text": [
      "../../ORF/inputsequences/withreverse_Nephilaantipodiana.fasta was generated succesfully\n",
      "../../ORF/inputsequences/withreverse_Latrodectushesperus.fasta was generated succesfully\n",
      "../../ORF/inputsequences/withreverse_Leucaugevenusta_2.fasta was generated succesfully\n",
      "../../ORF/inputsequences/withreverse_Parasteatodatepidariorum.fasta was generated succesfully\n",
      "../../ORF/inputsequences/withreverse_Steatodagrossa.fasta was generated succesfully\n",
      "../../ORF/inputsequences/withreverse_Leucaugevenusta.fasta was generated succesfully\n"
     ]
    }
   ],
   "source": [
    "import os\n",
    "files = os.listdir('../../N_treat/merged/')\n",
    "for file in files:\n",
    "    dataset = file[:-3]\n",
    "    filepath = '../../N_treat/merged/' + file\n",
    "    generate_fasta_with_complementary_seqs(filepath,dataset)"
   ]
  },
  {
   "cell_type": "code",
   "execution_count": 5,
   "metadata": {},
   "outputs": [
    {
     "data": {
      "text/plain": [
       "['Nephilaantipodiana.fa',\n",
       " 'Latrodectushesperus.fa',\n",
       " 'Leucaugevenusta_2.fa',\n",
       " 'Parasteatodatepidariorum.fa',\n",
       " 'Steatodagrossa.fa',\n",
       " 'Leucaugevenusta.fa']"
      ]
     },
     "execution_count": 5,
     "metadata": {},
     "output_type": "execute_result"
    }
   ],
   "source": [
    "datasets"
   ]
  },
  {
   "cell_type": "code",
   "execution_count": 6,
   "metadata": {},
   "outputs": [],
   "source": [
    "a = 'Nephilaantipodiana.fa'"
   ]
  },
  {
   "cell_type": "code",
   "execution_count": 8,
   "metadata": {},
   "outputs": [
    {
     "data": {
      "text/plain": [
       "'Nephilaantipodiana'"
      ]
     },
     "execution_count": 8,
     "metadata": {},
     "output_type": "execute_result"
    }
   ],
   "source": [
    "a[:-3]"
   ]
  },
  {
   "cell_type": "code",
   "execution_count": null,
   "metadata": {},
   "outputs": [],
   "source": []
  }
 ],
 "metadata": {
  "kernelspec": {
   "display_name": "Python 3",
   "language": "python",
   "name": "python3"
  },
  "language_info": {
   "codemirror_mode": {
    "name": "ipython",
    "version": 3
   },
   "file_extension": ".py",
   "mimetype": "text/x-python",
   "name": "python",
   "nbconvert_exporter": "python",
   "pygments_lexer": "ipython3",
   "version": "3.8.3"
  }
 },
 "nbformat": 4,
 "nbformat_minor": 4
}
