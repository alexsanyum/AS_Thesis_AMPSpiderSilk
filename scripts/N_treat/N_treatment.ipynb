{
 "cells": [
  {
   "cell_type": "code",
   "execution_count": 5,
   "metadata": {},
   "outputs": [],
   "source": [
    "def separe_N_sequences(dataset, fasta_file, output_path='../../N_treat/'):\n",
    "    '''This function generate two files from a fasta file. \n",
    "    One contain sequences without N char and the other contains sequences \n",
    "    with that char'''\n",
    "    f = open(fasta_file,'r')\n",
    "    f_noN = open(output_path + 'no_N/no_N' + dataset + '.fasta','w')\n",
    "    f_wN = open(output_path + 'with_N/w_N' + dataset + '.fasta','w')\n",
    "    for line in f:\n",
    "        if line[0] == '>':\n",
    "            head = line\n",
    "        elif 'N' in line.rstrip():\n",
    "            f_wN.write(head)\n",
    "            f_wN.write(line)\n",
    "        elif 'N' not in line.rstrip():\n",
    "            f_noN.write(head)\n",
    "            f_noN.write(line)\n",
    "    f_noN.close()\n",
    "    f_wN.close()\n",
    "    f.close()\n",
    "    print(dataset + ' was separated succesfully')"
   ]
  },
  {
   "cell_type": "code",
   "execution_count": 6,
   "metadata": {},
   "outputs": [
    {
     "name": "stdout",
     "output_type": "stream",
     "text": [
      "Parasteatodatepidariorum was separated succesfully\n",
      "Nephilaantipodiana was separated succesfully\n",
      "Leucaugevenusta_2 was separated succesfully\n",
      "Leucaugevenusta was separated succesfully\n",
      "Steatodagrossa was separated succesfully\n",
      "Latrodectushesperus was separated succesfully\n"
     ]
    }
   ],
   "source": [
    "species = ['Parasteatodatepidariorum', \n",
    "             'Nephilaantipodiana', \n",
    "             'Leucaugevenusta_2', \n",
    "             'Leucaugevenusta', \n",
    "             'Steatodagrossa', \n",
    "             'Latrodectushesperus']\n",
    "for dataset in species:\n",
    "    separe_N_sequences(dataset, '../../clusters/merged/' + dataset + '.fasta')"
   ]
  },
  {
   "cell_type": "code",
   "execution_count": 9,
   "metadata": {},
   "outputs": [],
   "source": [
    "def treat_N_sequences(withNfasta, dataset, threshold = 0.1, outpath='../../N_treat/trimmed_seqs/'):\n",
    "    '''This function trimm sequences with N and has a N ratio less than 0.1 with the seq len.\n",
    "    If the fragment is greater than 100, the seq is keep'''\n",
    "    f = open(withNfasta, 'r')\n",
    "    outname = outputpath + 'trim' + dataset + '.fasta'\n",
    "    f_out = open(outname,'w')\n",
    "    for line in f:\n",
    "        if line[0] == '>':\n",
    "            head = line\n",
    "        elif line.count(N)/len(line.rstrip()) <= threshold:\n",
    "            fragments = []\n",
    "            found = 0\n",
    "            last_cut = found\n",
    "            sequence = line.rstrip()\n",
    "            while found != -1:\n",
    "                found = sequence.find('N',last_cut)\n",
    "                if found > -1:\n",
    "                    fragment = sequence[last_cut:found]\n",
    "                else:\n",
    "                    fragment = sequence[last_cut:]\n",
    "                if len(fragment) >= 100:\n",
    "                    fragments.append(fragment)\n",
    "                last_cut = found + 1\n",
    "            j = 1\n",
    "            for frags in fragments:\n",
    "                head_trim = head.rstrip() + '_frag_' + str(j)\n",
    "                f_out.write(head_trim + '\\n')\n",
    "                f_out.write(frags+ '\\n')\n",
    "        else:\n",
    "            continue\n",
    "    print(dataset + ' was trim succesfully')"
   ]
  },
  {
   "cell_type": "code",
   "execution_count": 11,
   "metadata": {},
   "outputs": [
    {
     "data": {
      "text/plain": [
       "['w_NSteatodagrossa.fasta',\n",
       " 'w_NParasteatodatepidariorum.fasta',\n",
       " 'w_NLeucaugevenusta.fasta',\n",
       " 'w_NLeucaugevenusta_2.fasta',\n",
       " 'w_NLatrodectushesperus.fasta',\n",
       " 'w_NNephilaantipodiana.fasta']"
      ]
     },
     "execution_count": 11,
     "metadata": {},
     "output_type": "execute_result"
    }
   ],
   "source": [
    "import os\n",
    "os.listdir('../../N_treat/with_N')\n"
   ]
  },
  {
   "cell_type": "code",
   "execution_count": 8,
   "metadata": {},
   "outputs": [
    {
     "data": {
      "text/plain": [
       "3"
      ]
     },
     "execution_count": 8,
     "metadata": {},
     "output_type": "execute_result"
    }
   ],
   "source": [
    "a.count('N')"
   ]
  },
  {
   "cell_type": "code",
   "execution_count": null,
   "metadata": {},
   "outputs": [],
   "source": []
  }
 ],
 "metadata": {
  "kernelspec": {
   "display_name": "Python 3",
   "language": "python",
   "name": "python3"
  },
  "language_info": {
   "codemirror_mode": {
    "name": "ipython",
    "version": 3
   },
   "file_extension": ".py",
   "mimetype": "text/x-python",
   "name": "python",
   "nbconvert_exporter": "python",
   "pygments_lexer": "ipython3",
   "version": "3.8.3"
  }
 },
 "nbformat": 4,
 "nbformat_minor": 4
}
