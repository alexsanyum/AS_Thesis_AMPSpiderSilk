{
 "cells": [
  {
   "cell_type": "code",
   "execution_count": 5,
   "metadata": {},
   "outputs": [],
   "source": [
    "from Bio.Seq import Seq\n",
    "def translate_seqs(fasta_file, dataset, outpath='../../translated/'):\n",
    "    f = open(fasta_file,'r')\n",
    "    outname = outpath + dataset + '_aa.fasta'\n",
    "    f_out = open(outname,'w')\n",
    "    for line in f:\n",
    "        if line[0] == '>':\n",
    "            head = line\n",
    "        else:\n",
    "            seq = Seq(line.rstrip())\n",
    "            aa_seq = seq.translate(to_stop=True)\n",
    "            if len(str(aa_seq)) > 1:\n",
    "                f_out.write(head)\n",
    "                f_out.write(str(aa_seq) + '\\n')\n",
    "    f.close()\n",
    "    f_out.close()\n",
    "    print(dataset + ' was translated succesfully')"
   ]
  },
  {
   "cell_type": "code",
   "execution_count": 6,
   "metadata": {},
   "outputs": [
    {
     "name": "stdout",
     "output_type": "stream",
     "text": [
      "Steatodagrossa was translated succesfully\n",
      "Leucaugevenusta was translated succesfully\n",
      "Nephilaantipodiana was translated succesfully\n",
      "LL37 was translated succesfully\n",
      "Parasteatodatepidariorum was translated succesfully\n",
      "Leucaugevenusta_2 was translated succesfully\n",
      "Latrodectushesperus was translated succesfully\n"
     ]
    }
   ],
   "source": [
    "import os \n",
    "files = os.listdir('../../ORF/no_duplicated_orfs/')\n",
    "for file in files:\n",
    "    dataset = file[3:-6]\n",
    "    filepath = '../../ORF/no_duplicated_orfs/' + file\n",
    "    translate_seqs(filepath,dataset)"
   ]
  },
  {
   "cell_type": "code",
   "execution_count": 7,
   "metadata": {},
   "outputs": [],
   "source": [
    "def remove_duplicated_aa_seqs(aa_seqs, dataset, outpath ='../../translated/nd_aaseqs/'):\n",
    "    f = open(aa_seqs,'r')\n",
    "    outname = outpath + 'nd_' + dataset + '.fasta'\n",
    "    seqlist = []\n",
    "    f_out = open(outname,'w')\n",
    "    i = 1\n",
    "    for line in f:\n",
    "        if line[0] == '>':\n",
    "            head = line\n",
    "        elif line not in seqlist:\n",
    "            seqlist.append(line)\n",
    "            f_out.write(head)\n",
    "            f_out.write(line)\n",
    "        elif line in seqlist :\n",
    "            i +=1\n",
    "    print(str(i) + ' sequences were remove from ' + dataset)"
   ]
  },
  {
   "cell_type": "code",
   "execution_count": 8,
   "metadata": {},
   "outputs": [
    {
     "name": "stdout",
     "output_type": "stream",
     "text": [
      "131 sequences were remove from Nephilaantipodiana\n",
      "86 sequences were remove from Latrodectushesperus\n",
      "23 sequences were remove from Leucaugevenusta_2\n",
      "1 sequences were remove from LL37\n",
      "13 sequences were remove from Steatodagrossa\n",
      "10 sequences were remove from Parasteatodatepidariorum\n",
      "13 sequences were remove from Leucaugevenusta\n"
     ]
    }
   ],
   "source": [
    "aa_files = [file for file in os.listdir('../../translated/') if 'fasta' in file]\n",
    "for file in aa_files:\n",
    "    dataset = file[:-9]\n",
    "    filepath = '../../translated/' + file\n",
    "    remove_duplicated_aa_seqs(filepath,dataset)"
   ]
  },
  {
   "cell_type": "code",
   "execution_count": 27,
   "metadata": {},
   "outputs": [
    {
     "data": {
      "text/plain": [
       "'Nephilaantipodiana'"
      ]
     },
     "execution_count": 27,
     "metadata": {},
     "output_type": "execute_result"
    }
   ],
   "source": [
    "aa_files[0][:-9]"
   ]
  },
  {
   "cell_type": "code",
   "execution_count": null,
   "metadata": {},
   "outputs": [],
   "source": []
  }
 ],
 "metadata": {
  "kernelspec": {
   "display_name": "Python 3",
   "language": "python",
   "name": "python3"
  },
  "language_info": {
   "codemirror_mode": {
    "name": "ipython",
    "version": 3
   },
   "file_extension": ".py",
   "mimetype": "text/x-python",
   "name": "python",
   "nbconvert_exporter": "python",
   "pygments_lexer": "ipython3",
   "version": "3.8.3"
  }
 },
 "nbformat": 4,
 "nbformat_minor": 4
}
