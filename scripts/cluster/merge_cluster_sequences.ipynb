{
 "cells": [
  {
   "cell_type": "code",
   "execution_count": 12,
   "metadata": {},
   "outputs": [],
   "source": [
    "import os\n",
    "def merge_sequences(dataset,files, path_of_output='../../clusters/merged'):\n",
    "    '''This function create a merged fasta file of sequences, requiere dataset name and files of sequences \n",
    "    to merge including path, output path by fedault is a merge directory'''\n",
    "    outname =path_of_output + '/' + dataset + '.fasta' \n",
    "    f_out = open(outname, 'w')\n",
    "    for file in files: \n",
    "        f = open(file, 'r')\n",
    "        for line in f:\n",
    "            f_out.write(line)\n",
    "        f.close()\n",
    "    print(dataset + ' generated succesfully')"
   ]
  },
  {
   "cell_type": "code",
   "execution_count": 13,
   "metadata": {},
   "outputs": [],
   "source": [
    "def main():\n",
    "    datasets = data_sets = ['Parasteatodatepidariorum', \n",
    "             'Nephilaantipodiana', \n",
    "             'Leucaugevenusta_2', \n",
    "             'Leucaugevenusta', \n",
    "             'Steatodagrossa', \n",
    "             'Latrodectushesperus']\n",
    "    for dataset in datasets:\n",
    "        path_to_data = '../../clusters/all_clusters_by_dataset/' + dataset\n",
    "        dsl = ['../../clusters/all_clusters_by_dataset/' + dataset + '/' + file for file in os.listdir(path_to_data)]\n",
    "        merge_sequences(dataset, dsl)"
   ]
  },
  {
   "cell_type": "code",
   "execution_count": 14,
   "metadata": {},
   "outputs": [
    {
     "name": "stdout",
     "output_type": "stream",
     "text": [
      "Parasteatodatepidariorum generated succesfully\n",
      "Nephilaantipodiana generated succesfully\n",
      "Leucaugevenusta_2 generated succesfully\n",
      "Leucaugevenusta generated succesfully\n",
      "Steatodagrossa generated succesfully\n",
      "Latrodectushesperus generated succesfully\n"
     ]
    }
   ],
   "source": [
    "main()"
   ]
  },
  {
   "cell_type": "code",
   "execution_count": null,
   "metadata": {},
   "outputs": [],
   "source": []
  }
 ],
 "metadata": {
  "kernelspec": {
   "display_name": "Python 3",
   "language": "python",
   "name": "python3"
  },
  "language_info": {
   "codemirror_mode": {
    "name": "ipython",
    "version": 3
   },
   "file_extension": ".py",
   "mimetype": "text/x-python",
   "name": "python",
   "nbconvert_exporter": "python",
   "pygments_lexer": "ipython3",
   "version": "3.8.3"
  }
 },
 "nbformat": 4,
 "nbformat_minor": 4
}
