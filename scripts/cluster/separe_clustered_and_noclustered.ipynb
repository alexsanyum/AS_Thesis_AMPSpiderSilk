{
 "cells": [
  {
   "cell_type": "code",
   "execution_count": 51,
   "metadata": {},
   "outputs": [],
   "source": [
    "from Bio import SeqIO\n",
    "import os\n",
    "def generate_dict_of_cluster(cluster_file):\n",
    "    '''This function created two dictionaries of a cluster file in Cd-Hit Cluster format\n",
    "    '''\n",
    "    f = open(cluster_file,'r')\n",
    "    clust_dict = {}\n",
    "    #Generate a dictionary with all clustres\n",
    "    for line in f:\n",
    "        if '>' == line[0]:\n",
    "            head = line\n",
    "            clust_dict[head] = []\n",
    "        else:\n",
    "            clust_dict[head].append(line)\n",
    "    #Generated two dictionaries, no_clst for no clustered sequences and clst for clustered sequences\n",
    "    no_clst = {}\n",
    "    clst = {}\n",
    "    for key in clust_dict.keys():\n",
    "        if len(clust_dict[key]) > 1:\n",
    "            clst[key] = clust_dict[key]\n",
    "        else:\n",
    "            no_clst[key] = clust_dict[key][0]\n",
    "    return [no_clst, clst]\n",
    "def make_fasta_dict(dataset, path='../../EST_data'):\n",
    "    '''This function generate a dictionary of a fasta file\n",
    "    Requieres the dataset(fasta filename) and the path\n",
    "    Path is setting to EST data by defuault'''\n",
    "    seq_dict = SeqIO.to_dict(SeqIO.parse(path +'/' +dataset +'.fasta', \"fasta\"))\n",
    "    return seq_dict\n",
    "def make_no_clustered_fasta(no_clustered_dict,sequences_dict,dataset, path):\n",
    "    '''This function generated a fasta file of no clustered sequences'''\n",
    "    out_name = dataset + '_noclustered.fasta'\n",
    "    f_out = open(path + '/' + out_name,'w')\n",
    "    for cluster in no_clustered_dict.keys():\n",
    "        seq = no_clustered_dict[cluster]\n",
    "        seqID = seq[seq.find('>')+1:seq.find('...')]\n",
    "        sequence = str(sequences_dict[seqID].seq)\n",
    "        f_out.write('>' + seqID + '\\n')\n",
    "        f_out.write(sequence+ '\\n')\n",
    "    f_out.close\n",
    "def make_clustered_fasta(clustered_dict, sequence_dict, dataset,path):\n",
    "    '''This function generated a fasta file for each cluster'''\n",
    "    i = 1 \n",
    "    if dataset not in os.listdir(path):\n",
    "        os.mkdir(path + '/' + dataset)\n",
    "    path += dataset + '/'\n",
    "    for cluster in clustered_dict.keys():\n",
    "        outname = str(i) + '_' + dataset + '_clstrd.fasta'\n",
    "        f_out = open(path  + outname,'w')\n",
    "        for seq in clustered_dict[cluster]:\n",
    "            seqID = seq[seq.find('>')+1:seq.find('...')]\n",
    "            sequence = str(sequence_dict[seqID].seq)\n",
    "            f_out.write('>' + seqID + '\\n')\n",
    "            f_out.write(sequence+ '\\n')\n",
    "        f_out.close()\n",
    "        i+=1\n",
    "def separe_clusted_sequences(percentageID, datasets,outputdir):\n",
    "    cluster_files = ['../../clusters/cluster_' + str(percentageID) + '/' + file for file in os.listdir('../../clusters/cluster_' + str(percentageID))]\n",
    "    if outputdir not in os.listdir('../../clusters/'):\n",
    "        os.mkdir('../../clusters/' + outputdir)\n",
    "    outputpath = '../../clusters/' + outputdir + '/'\n",
    "    for file in cluster_files:\n",
    "        dataset = [specie for specie in datasets if specie + '_c' in file][0]\n",
    "        clust_dict = generate_dict_of_cluster(file)\n",
    "        sequences = make_fasta_dict(dataset)\n",
    "        make_no_clustered_fasta(clust_dict[0], sequences, dataset, outputpath)\n",
    "        make_clustered_fasta(clust_dict[1], sequences, dataset, outputpath)\n",
    "    print('All files were generated succesfully')"
   ]
  },
  {
   "cell_type": "code",
   "execution_count": 52,
   "metadata": {},
   "outputs": [
    {
     "name": "stdout",
     "output_type": "stream",
     "text": [
      "All files were generated succesfully\n"
     ]
    }
   ],
   "source": [
    "species = ['Parasteatodatepidariorum', \n",
    "             'Nephilaantipodiana', \n",
    "             'Leucaugevenusta_2', \n",
    "             'Leucaugevenusta', \n",
    "             'Steatodagrossa', \n",
    "             'Latrodectushesperus']\n",
    "separe_clusted_sequences(75, species, 'separed_clusters')"
   ]
  },
  {
   "cell_type": "code",
   "execution_count": 53,
   "metadata": {},
   "outputs": [
    {
     "data": {
      "text/plain": [
       "{'et|JZ979961.1_PAF56_T7': SeqRecord(seq=Seq('TTTTTTTTTTTTTTTGCTTAGAAAAAATTCTTTATTATCATTTAAAACATTTAC...ATT'), id='et|JZ979961.1_PAF56_T7', name='et|JZ979961.1_PAF56_T7', description='et|JZ979961.1_PAF56_T7', dbxrefs=[]),\n",
       " 'et|JZ979960.1_PAF54_T7': SeqRecord(seq=Seq('ATAAAATATGTCTCAGTATTTATTATCATGCATTAATTTTGTAGCACAGATTTA...CGA'), id='et|JZ979960.1_PAF54_T7', name='et|JZ979960.1_PAF54_T7', description='et|JZ979960.1_PAF54_T7', dbxrefs=[]),\n",
       " 'et|JZ979959.1_PAF53_T7': SeqRecord(seq=Seq('CTCCAACGTTTTTTGCTTGTTCTTGTGGTTTTGGCTGTTTTAGCTGTTTCAGCG...AAA'), id='et|JZ979959.1_PAF53_T7', name='et|JZ979959.1_PAF53_T7', description='et|JZ979959.1_PAF53_T7', dbxrefs=[]),\n",
       " 'et|JZ979958.1_PAF32_': SeqRecord(seq=Seq('TAAAGTTTTTTTGAGCAAGAAAAAAAAATGAAAAAAAAGAAAGCGAGAGATAGA...GAC'), id='et|JZ979958.1_PAF32_', name='et|JZ979958.1_PAF32_', description='et|JZ979958.1_PAF32_', dbxrefs=[]),\n",
       " 'et|JZ979957.1_PAF32_Sp6': SeqRecord(seq=Seq('GTCCAAAATATTTATTACACACTTTTAGCTACAAATGCTTTATTCTGTATCAAT...TTA'), id='et|JZ979957.1_PAF32_Sp6', name='et|JZ979957.1_PAF32_Sp6', description='et|JZ979957.1_PAF32_Sp6', dbxrefs=[]),\n",
       " 'et|JZ979956.1_PAF31_': SeqRecord(seq=Seq('CGATCAGTTGGACCTTTTCAAAAATGGCTTCTACTCATAAATTAATACTTTGCA...GTT'), id='et|JZ979956.1_PAF31_', name='et|JZ979956.1_PAF31_', description='et|JZ979956.1_PAF31_', dbxrefs=[]),\n",
       " 'et|JZ979955.1_PAF31_Sp6': SeqRecord(seq=Seq('AACAGAATTCCATAAAAAATACTACTTTTTTGATGAAATGAAGATTAAGAAAAA...TCG'), id='et|JZ979955.1_PAF31_Sp6', name='et|JZ979955.1_PAF31_Sp6', description='et|JZ979955.1_PAF31_Sp6', dbxrefs=[]),\n",
       " 'et|JZ979954.1_PAF45_T7': SeqRecord(seq=Seq('CAAATATTTATTAAACAAGATTTAAAATTGCAAGCAAACAAAAACAGAAAGAAA...GAA'), id='et|JZ979954.1_PAF45_T7', name='et|JZ979954.1_PAF45_T7', description='et|JZ979954.1_PAF45_T7', dbxrefs=[]),\n",
       " 'et|JZ979953.1_PAF45_Sp6': SeqRecord(seq=Seq('AGCTTTGAACGTCTTGAACGCCGAGCCTTTCAGCCTTTTACTTAACGAATCCCG...TGG'), id='et|JZ979953.1_PAF45_Sp6', name='et|JZ979953.1_PAF45_Sp6', description='et|JZ979953.1_PAF45_Sp6', dbxrefs=[]),\n",
       " 'et|JZ979952.1_PAF44_T7': SeqRecord(seq=Seq('TTTTTAATATATTTAGTTTTAATATTTAATATATTAATAAACATATTATTTTGT...CTG'), id='et|JZ979952.1_PAF44_T7', name='et|JZ979952.1_PAF44_T7', description='et|JZ979952.1_PAF44_T7', dbxrefs=[]),\n",
       " 'et|JZ979951.1_PAF43_T7': SeqRecord(seq=Seq('AAAATCTTTTATAACGTTTTATCGCTCATTTTGAAAAATAAATCATGAAGGTTT...AAA'), id='et|JZ979951.1_PAF43_T7', name='et|JZ979951.1_PAF43_T7', description='et|JZ979951.1_PAF43_T7', dbxrefs=[]),\n",
       " 'et|JZ979950.1_PAF30_T7': SeqRecord(seq=Seq('TTATATTTTGCCCCATTTGCTTAGTTTTGAATTGCGGCGTATATTAAATGCTAC...AAA'), id='et|JZ979950.1_PAF30_T7', name='et|JZ979950.1_PAF30_T7', description='et|JZ979950.1_PAF30_T7', dbxrefs=[]),\n",
       " 'et|JZ979949.1_PAF29_T7': SeqRecord(seq=Seq('TTTTTTTTTTCACAACACACACAAACACATTTTATTAATACCACAACAATATGG...TAC'), id='et|JZ979949.1_PAF29_T7', name='et|JZ979949.1_PAF29_T7', description='et|JZ979949.1_PAF29_T7', dbxrefs=[]),\n",
       " 'et|JZ979948.1_PAF57_T7': SeqRecord(seq=Seq('TTTTTTTTTTTTTTTTTTTTTTTTTTTTTTTATGAATTTATGTATTTTTACAAA...TCG'), id='et|JZ979948.1_PAF57_T7', name='et|JZ979948.1_PAF57_T7', description='et|JZ979948.1_PAF57_T7', dbxrefs=[]),\n",
       " 'et|JZ979947.1_PAF50_T7': SeqRecord(seq=Seq('CTCGTTTACAGACAGATAAAATGACTTCTACTCGAATAATATTTCTACTCACCA...AAA'), id='et|JZ979947.1_PAF50_T7', name='et|JZ979947.1_PAF50_T7', description='et|JZ979947.1_PAF50_T7', dbxrefs=[]),\n",
       " 'et|JZ979946.1_PAF49_T7': SeqRecord(seq=Seq('CTAACATTTCATTTGAAGAAAAATGGCTTACACATTGAGAATTGCCTGTTTGGT...AAA'), id='et|JZ979946.1_PAF49_T7', name='et|JZ979946.1_PAF49_T7', description='et|JZ979946.1_PAF49_T7', dbxrefs=[]),\n",
       " 'et|JZ979945.1_PAF49_SP6': SeqRecord(seq=Seq('TTTTTTTTATTGGCAATAAAATATTTTATTTGTATGACTTATAAGAGAAAGGTC...TAG'), id='et|JZ979945.1_PAF49_SP6', name='et|JZ979945.1_PAF49_SP6', description='et|JZ979945.1_PAF49_SP6', dbxrefs=[]),\n",
       " 'et|JZ979944.1_PAF48_T7': SeqRecord(seq=Seq('ACAAAAGCTAAGACTTTCTCTGCTACCAAAATGATGATTTTTCTGGTCACGAGT...TTA'), id='et|JZ979944.1_PAF48_T7', name='et|JZ979944.1_PAF48_T7', description='et|JZ979944.1_PAF48_T7', dbxrefs=[]),\n",
       " 'et|JZ979943.1_PAF48_SP6': SeqRecord(seq=Seq('TTTTTTTTTTTTTCGAAGAAATTTTATTTTATTATTCTTTTAAACAATTAGAAA...ATC'), id='et|JZ979943.1_PAF48_SP6', name='et|JZ979943.1_PAF48_SP6', description='et|JZ979943.1_PAF48_SP6', dbxrefs=[]),\n",
       " 'et|JZ979942.1_PAF47_T7': SeqRecord(seq=Seq('ATTAACAATGATCATAAAATAAATACAGTATAACCTTGATTGTCTGCACCACTT...AAA'), id='et|JZ979942.1_PAF47_T7', name='et|JZ979942.1_PAF47_T7', description='et|JZ979942.1_PAF47_T7', dbxrefs=[]),\n",
       " 'et|JZ979941.1_PAF47_SP6': SeqRecord(seq=Seq('TTTTTTTTTTTTTTTTTGCAACAGAAAACAAATTTATTATACATAATCATACAT...AAT'), id='et|JZ979941.1_PAF47_SP6', name='et|JZ979941.1_PAF47_SP6', description='et|JZ979941.1_PAF47_SP6', dbxrefs=[]),\n",
       " 'JZ979940.1': SeqRecord(seq=Seq('CTATTAATCAGAAATTTTTATTATCCTATTAGAAAAGAAATATCACATGGTATT...AAT'), id='JZ979940.1', name='JZ979940.1', description='JZ979940.1 PAF40_T7 Parasteatoda tepidariorum aggregate silk gland cDNA library Parasteatoda tepidariorum cDNA clone PAF40 similar to Protein Peter pan, putative, mRNA sequence', dbxrefs=[]),\n",
       " 'JZ979939.1': SeqRecord(seq=Seq('TACTAATTCCTCACGTGTAGTAGTGTTACAATAATATATATATTTATTAAAAAT...AAA'), id='JZ979939.1', name='JZ979939.1', description='JZ979939.1 PAF40_SP6 Parasteatoda tepidariorum aggregate silk gland cDNA library Parasteatoda tepidariorum cDNA clone PAF40 similar to Protein Peter pan, putative, mRNA sequence', dbxrefs=[]),\n",
       " 'et|JZ979938.1_PAF39_SP6': SeqRecord(seq=Seq('ATTAGGATTATCACGTAAAGTACAGCTCATCTCTATATGAAGAGATGATCTATA...AAA'), id='et|JZ979938.1_PAF39_SP6', name='et|JZ979938.1_PAF39_SP6', description='et|JZ979938.1_PAF39_SP6', dbxrefs=[]),\n",
       " 'et|JZ979937.1_PAF38_T7': SeqRecord(seq=Seq('TTTTTTTTTTTTTTTTTTACTTTTTTTTTCCAGTTTTATTGCACTTTAAAGGTC...CCG'), id='et|JZ979937.1_PAF38_T7', name='et|JZ979937.1_PAF38_T7', description='et|JZ979937.1_PAF38_T7', dbxrefs=[]),\n",
       " 'et|JZ979936.1_PAF37_T7': SeqRecord(seq=Seq('TTTTTGACTTGTTTAAAATATTTTATTAATAAATTTTGAAGTACTTTAATTCAG...AAG'), id='et|JZ979936.1_PAF37_T7', name='et|JZ979936.1_PAF37_T7', description='et|JZ979936.1_PAF37_T7', dbxrefs=[]),\n",
       " 'et|JZ979935.1_PAF35_T7': SeqRecord(seq=Seq('AATGCATTTTTACACTTGAATTATGTTTTAAGTTTCTCCTAAAAACTTATTTCT...TAA'), id='et|JZ979935.1_PAF35_T7', name='et|JZ979935.1_PAF35_T7', description='et|JZ979935.1_PAF35_T7', dbxrefs=[]),\n",
       " 'et|JZ979934.1_PAF34_T7': SeqRecord(seq=Seq('AAACTGACCATAACACTGAGAACAAAAGTATTCCAGATCAAGAAGATAAAGGCC...AAA'), id='et|JZ979934.1_PAF34_T7', name='et|JZ979934.1_PAF34_T7', description='et|JZ979934.1_PAF34_T7', dbxrefs=[]),\n",
       " 'et|JZ979933.1_PAF34_SP6': SeqRecord(seq=Seq('TTTTTTTTTTTTTTTTTTGTTAAGCCTTAGAGAAATGTTAAATGATCTTCAAGG...TTT'), id='et|JZ979933.1_PAF34_SP6', name='et|JZ979933.1_PAF34_SP6', description='et|JZ979933.1_PAF34_SP6', dbxrefs=[]),\n",
       " 'et|JZ979932.1_PAF33_T7': SeqRecord(seq=Seq('TTTTTTTTTTTTTTCCTCCTCTCTGGTGGTCTGACTAGATTTGAAGTAGTTTTT...AGC'), id='et|JZ979932.1_PAF33_T7', name='et|JZ979932.1_PAF33_T7', description='et|JZ979932.1_PAF33_T7', dbxrefs=[]),\n",
       " 'et|JZ979931.1_PAF33_SP6': SeqRecord(seq=Seq('TTTTTTTTTTTGCCTATTTGTTCTTTTATTTCCAAGCAAAATGGCACAAAATTA...TAT'), id='et|JZ979931.1_PAF33_SP6', name='et|JZ979931.1_PAF33_SP6', description='et|JZ979931.1_PAF33_SP6', dbxrefs=[]),\n",
       " 'et|JZ979930.1_PAF99_Sp6': SeqRecord(seq=Seq('AAATGGAAATGATCTTGTATGTGTCTTGATTCCCAGTAAAATTAAGTAGATTTA...AAG'), id='et|JZ979930.1_PAF99_Sp6', name='et|JZ979930.1_PAF99_Sp6', description='et|JZ979930.1_PAF99_Sp6', dbxrefs=[]),\n",
       " 'et|JZ979929.1_PAF81_Sp6': SeqRecord(seq=Seq('TTTTTGCTTGCAGATAATATATATTTATTGATATTTAAGTATGGTTAAGTACAA...CTG'), id='et|JZ979929.1_PAF81_Sp6', name='et|JZ979929.1_PAF81_Sp6', description='et|JZ979929.1_PAF81_Sp6', dbxrefs=[]),\n",
       " 'et|JZ979928.1_PAF81_T7': SeqRecord(seq=Seq('CAGTATATTAACCAGAATCATGAGGACCATTGCACTCTTGCTCGCCCTTGCATT...GNT'), id='et|JZ979928.1_PAF81_T7', name='et|JZ979928.1_PAF81_T7', description='et|JZ979928.1_PAF81_T7', dbxrefs=[]),\n",
       " 'et|JZ979927.1_PAF80_T7': SeqRecord(seq=Seq('TTTAATGCTTGCAGATAATATATATTTATTGATATTTAAGTATGGTTAAGTACA...TTC'), id='et|JZ979927.1_PAF80_T7', name='et|JZ979927.1_PAF80_T7', description='et|JZ979927.1_PAF80_T7', dbxrefs=[]),\n",
       " 'et|JZ979926.1_PAF79_T7': SeqRecord(seq=Seq('AGTGCCTGAATTATAGTGATCGACTTCCAGAGACAGAAGAGAAAATGAAGGTTT...AAC'), id='et|JZ979926.1_PAF79_T7', name='et|JZ979926.1_PAF79_T7', description='et|JZ979926.1_PAF79_T7', dbxrefs=[]),\n",
       " 'et|JZ979925.1_PAF71_T7': SeqRecord(seq=Seq('GCTATAAATTTATTAGTTCATTGAAGTAATGTGGTATATTCATTTTTATTGAAA...CTG'), id='et|JZ979925.1_PAF71_T7', name='et|JZ979925.1_PAF71_T7', description='et|JZ979925.1_PAF71_T7', dbxrefs=[]),\n",
       " 'et|JZ979924.1_PAF21_Sp6': SeqRecord(seq=Seq('TTTTTTTTTTTTAATAATTTTATTTTAGTAAAATTTATGTACTGTAAAATTCTT...CAT'), id='et|JZ979924.1_PAF21_Sp6', name='et|JZ979924.1_PAF21_Sp6', description='et|JZ979924.1_PAF21_Sp6', dbxrefs=[]),\n",
       " 'et|JZ979923.1_PAF21_T7': SeqRecord(seq=Seq('ACACTAATGACCTTTAGTAAACAAATCTATTGAGATTGTTTTTTGAGGAATTTT...TCT'), id='et|JZ979923.1_PAF21_T7', name='et|JZ979923.1_PAF21_T7', description='et|JZ979923.1_PAF21_T7', dbxrefs=[]),\n",
       " 'et|JZ979922.1_PAF96': SeqRecord(seq=Seq('CTTCGATTTACTCAAAACCAAAACTACCAAAATGAATCAACAAATATTGATGGT...AAA'), id='et|JZ979922.1_PAF96', name='et|JZ979922.1_PAF96', description='et|JZ979922.1_PAF96', dbxrefs=[]),\n",
       " 'et|JZ979921.1_PAF95': SeqRecord(seq=Seq('ATTTTTATTATTTTAGCTGCTAATGCACTTGGAGCTAATAAGAAAAAACCTGGA...TTC'), id='et|JZ979921.1_PAF95', name='et|JZ979921.1_PAF95', description='et|JZ979921.1_PAF95', dbxrefs=[]),\n",
       " 'et|JZ979920.1_PAF87': SeqRecord(seq=Seq('ACTGGAAAGAGTTCTTTTATTTCATTTTTTTTTTATATAATACAATATTGAAGG...AAA'), id='et|JZ979920.1_PAF87', name='et|JZ979920.1_PAF87', description='et|JZ979920.1_PAF87', dbxrefs=[]),\n",
       " 'et|JZ979919.1_PAF85_T7': SeqRecord(seq=Seq('AAATGGATACATAATCGAACTTATTCTACCTAAGTATCCTTTCGGCCCACCGTT...CTT'), id='et|JZ979919.1_PAF85_T7', name='et|JZ979919.1_PAF85_T7', description='et|JZ979919.1_PAF85_T7', dbxrefs=[]),\n",
       " 'et|JZ979918.1_PAF85_': SeqRecord(seq=Seq('TTTTTTAAATAAAAGACAGAATTTTTATTTATACACATCATTATAAAAATTACA...TGC'), id='et|JZ979918.1_PAF85_', name='et|JZ979918.1_PAF85_', description='et|JZ979918.1_PAF85_', dbxrefs=[]),\n",
       " 'et|JZ979917.1_PAF100_T7': SeqRecord(seq=Seq('TTTTTTTTTTTGGTTCGGTTTACTTAAACGCGTGGATACTAGCTAAATTTGGAA...CTT'), id='et|JZ979917.1_PAF100_T7', name='et|JZ979917.1_PAF100_T7', description='et|JZ979917.1_PAF100_T7', dbxrefs=[]),\n",
       " 'et|JZ979916.1_PAF100_SP6': SeqRecord(seq=Seq('TTTTTATGAAAAATTATTTTATTGATTCAAAATCTACAAGCTTAAATTAAATCA...TAA'), id='et|JZ979916.1_PAF100_SP6', name='et|JZ979916.1_PAF100_SP6', description='et|JZ979916.1_PAF100_SP6', dbxrefs=[]),\n",
       " 'et|JZ979915.1_PAF93_T7': SeqRecord(seq=Seq('TGAAAATTAACCACTCCACGATATTCTTTCATAGCTAGTTATGTATCGGTGCTC...AAA'), id='et|JZ979915.1_PAF93_T7', name='et|JZ979915.1_PAF93_T7', description='et|JZ979915.1_PAF93_T7', dbxrefs=[]),\n",
       " 'et|JZ979914.1_PAF76_T7': SeqRecord(seq=Seq('CACAGGGATGAAATTTTCTTCTTAAAAATATTTAGTATTATGTGCTTTAAACAA...AAA'), id='et|JZ979914.1_PAF76_T7', name='et|JZ979914.1_PAF76_T7', description='et|JZ979914.1_PAF76_T7', dbxrefs=[]),\n",
       " 'et|JZ979913.1_PAF74_T7': SeqRecord(seq=Seq('CTCGTTTACAGACAGACAAAATGACTTCTACTCGAATAATATTTCTACTCACCA...AAA'), id='et|JZ979913.1_PAF74_T7', name='et|JZ979913.1_PAF74_T7', description='et|JZ979913.1_PAF74_T7', dbxrefs=[]),\n",
       " 'et|JZ979912.1_PAF73_T7': SeqRecord(seq=Seq('TGCAAATAAATGTACTTTATTTAATTTCACATCATTACCCAAAATAATGGTTTA...TCG'), id='et|JZ979912.1_PAF73_T7', name='et|JZ979912.1_PAF73_T7', description='et|JZ979912.1_PAF73_T7', dbxrefs=[]),\n",
       " 'et|JZ979911.1_PAF72_T7': SeqRecord(seq=Seq('CTCGTTTACAGACAGATAAAATGACTTCTACTCGAATAATATTTCTACTCACCA...AAT'), id='et|JZ979911.1_PAF72_T7', name='et|JZ979911.1_PAF72_T7', description='et|JZ979911.1_PAF72_T7', dbxrefs=[]),\n",
       " 'et|JZ979910.1_PAF70_T7': SeqRecord(seq=Seq('CACTTTTTAAATGCAATTTTATTCAAAATTAACTGGAAGGTACATTTTTTTCAA...GGT'), id='et|JZ979910.1_PAF70_T7', name='et|JZ979910.1_PAF70_T7', description='et|JZ979910.1_PAF70_T7', dbxrefs=[]),\n",
       " 'et|JZ979909.1_PAF69_T7': SeqRecord(seq=Seq('GTAAATGCAAAACAATAAGTTTTAGTAAAAAAAAAAATTTTTTTTTTTTGTTGA...TGG'), id='et|JZ979909.1_PAF69_T7', name='et|JZ979909.1_PAF69_T7', description='et|JZ979909.1_PAF69_T7', dbxrefs=[]),\n",
       " 'et|JZ979908.1_PAF67_T7': SeqRecord(seq=Seq('CAAAGTTTATTGAACAATATGAGTCAACAGCAACTAATACAACTTCTCGGAGGA...ATT'), id='et|JZ979908.1_PAF67_T7', name='et|JZ979908.1_PAF67_T7', description='et|JZ979908.1_PAF67_T7', dbxrefs=[]),\n",
       " 'et|JZ979907.1_PAF20_SP6': SeqRecord(seq=Seq('AATTATTTTGCACTAGCAGTTTACTAACAATGTAAAATATAAAATATGATTAAT...TGA'), id='et|JZ979907.1_PAF20_SP6', name='et|JZ979907.1_PAF20_SP6', description='et|JZ979907.1_PAF20_SP6', dbxrefs=[]),\n",
       " 'et|JZ979906.1_PAF13_T7': SeqRecord(seq=Seq('CTACGCTTGTTGATTCCGAATCGTGGTATTTTGGTTTTATTCCAAAGGAACAAA...AAA'), id='et|JZ979906.1_PAF13_T7', name='et|JZ979906.1_PAF13_T7', description='et|JZ979906.1_PAF13_T7', dbxrefs=[]),\n",
       " 'et|JZ979905.1_PAF_64_T7': SeqRecord(seq=Seq('ACAATAGCCTGTGTTTCGAAATGTTTCCTAAACTCTTCACTCTCCTCTTCGTAG...AAA'), id='et|JZ979905.1_PAF_64_T7', name='et|JZ979905.1_PAF_64_T7', description='et|JZ979905.1_PAF_64_T7', dbxrefs=[]),\n",
       " 'et|JZ979904.1_PAF_63_T7': SeqRecord(seq=Seq('TACGTACATGACCGTAGCAATGGCAAAAAGAACGGCGGTGGTCTTCTTGGTGGT...AAA'), id='et|JZ979904.1_PAF_63_T7', name='et|JZ979904.1_PAF_63_T7', description='et|JZ979904.1_PAF_63_T7', dbxrefs=[]),\n",
       " 'et|JZ979903.1_PAF_26_T7': SeqRecord(seq=Seq('CTAATATATCCGTAGTATTTATCTACATTCGCCAAAAAATGAATACCGCCATGA...AAG'), id='et|JZ979903.1_PAF_26_T7', name='et|JZ979903.1_PAF_26_T7', description='et|JZ979903.1_PAF_26_T7', dbxrefs=[])}"
      ]
     },
     "execution_count": 53,
     "metadata": {},
     "output_type": "execute_result"
    }
   ],
   "source": [
    "make_fasta_dict('Parasteatodatepidariorum')"
   ]
  },
  {
   "cell_type": "code",
   "execution_count": null,
   "metadata": {},
   "outputs": [],
   "source": []
  }
 ],
 "metadata": {
  "kernelspec": {
   "display_name": "Python 3",
   "language": "python",
   "name": "python3"
  },
  "language_info": {
   "codemirror_mode": {
    "name": "ipython",
    "version": 3
   },
   "file_extension": ".py",
   "mimetype": "text/x-python",
   "name": "python",
   "nbconvert_exporter": "python",
   "pygments_lexer": "ipython3",
   "version": "3.8.3"
  }
 },
 "nbformat": 4,
 "nbformat_minor": 4
}
